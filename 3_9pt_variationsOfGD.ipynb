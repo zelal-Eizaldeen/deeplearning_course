{
  "nbformat": 4,
  "nbformat_minor": 0,
  "metadata": {
    "colab": {
      "provenance": [],
      "authorship_tag": "ABX9TyNUS5i9JgSP+8RyWYYNmDR2",
      "include_colab_link": true
    },
    "kernelspec": {
      "name": "python3",
      "display_name": "Python 3"
    },
    "language_info": {
      "name": "python"
    }
  },
  "cells": [
    {
      "cell_type": "markdown",
      "metadata": {
        "id": "view-in-github",
        "colab_type": "text"
      },
      "source": [
        "<a href=\"https://colab.research.google.com/github/zelal-Eizaldeen/deeplearning_course/blob/main/3_9pt_variationsOfGD.ipynb\" target=\"_parent\"><img src=\"https://colab.research.google.com/assets/colab-badge.svg\" alt=\"Open In Colab\"/></a>"
      ]
    },
    {
      "cell_type": "markdown",
      "source": [
        "- In this programming example, we will use some of the just introduced techniques to improve our digital classification networks, implemented using PyTorch."
      ],
      "metadata": {
        "id": "3jmAjQeCqeUW"
      }
    },
    {
      "cell_type": "markdown",
      "source": [
        "# PyTorch"
      ],
      "metadata": {
        "id": "76Sk_w12qkbN"
      }
    },
    {
      "cell_type": "markdown",
      "source": [
        "This Google Colab is showing how we can do an improved digital classification network using PyTorch. So in this case, we will demonstrate some of these newly introduced techniques. Most of the code is the same as the previous programming example of digital classification, but we're doing some changes both to the **network as well as the training process.**"
      ],
      "metadata": {
        "id": "x7nqwHFPqoPq"
      }
    },
    {
      "cell_type": "code",
      "source": [
        "\"\"\"\n",
        "The MIT License (MIT)\n",
        "Copyright (c) 2021 NVIDIA\n",
        "Permission is hereby granted, free of charge, to any person obtaining a copy of\n",
        "this software and associated documentation files (the \"Software\"), to deal in\n",
        "the Software without restriction, including without limitation the rights to\n",
        "use, copy, modify, merge, publish, distribute, sublicense, and/or sell copies of\n",
        "the Software, and to permit persons to whom the Software is furnished to do so,\n",
        "subject to the following conditions:\n",
        "The above copyright notice and this permission notice shall be included in all\n",
        "copies or substantial portions of the Software.\n",
        "THE SOFTWARE IS PROVIDED \"AS IS\", WITHOUT WARRANTY OF ANY KIND, EXPRESS OR\n",
        "IMPLIED, INCLUDING BUT NOT LIMITED TO THE WARRANTIES OF MERCHANTABILITY, FITNESS\n",
        "FOR A PARTICULAR PURPOSE AND NONINFRINGEMENT. IN NO EVENT SHALL THE AUTHORS OR\n",
        "COPYRIGHT HOLDERS BE LIABLE FOR ANY CLAIM, DAMAGES OR OTHER LIABILITY, WHETHER\n",
        "IN AN ACTION OF CONTRACT, TORT OR OTHERWISE, ARISING FROM, OUT OF OR IN\n",
        "CONNECTION WITH THE SOFTWARE OR THE USE OR OTHER DEALINGS IN THE SOFTWARE.\n",
        "\"\"\""
      ],
      "metadata": {
        "id": "dPX7u7xfrF4T"
      },
      "execution_count": null,
      "outputs": []
    },
    {
      "cell_type": "code",
      "source": [
        "import torch\n",
        "import torch.nn as nn\n",
        "import torchvision\n",
        "import torchvision.transforms as transforms\n",
        "from torchvision.datasets import MNIST\n",
        "from torch.utils.data import DataLoader\n",
        "import numpy as np\n",
        "torch.manual_seed(7)\n",
        "\n",
        "device = torch.device(\"cuda:0\" if torch.cuda.is_available() else \"cpu\")\n",
        "EPOCHS = 20\n",
        "BATCH_SIZE = 64\n",
        "\n",
        "# Load training dataset into a single batch to compute mean and stddev.\n",
        "transform = transforms.Compose([transforms.ToTensor()])\n",
        "trainset = MNIST(root='./pt_data', train=True, download=True, transform=transform)\n",
        "trainloader = DataLoader(trainset, batch_size=len(trainset), shuffle=True)\n",
        "data = next(iter(trainloader))\n",
        "mean = data[0].mean()\n",
        "stddev = data[0].std()\n",
        "\n",
        "# Helper function needed to standardize data when loading datasets.\n",
        "transform = transforms.Compose(\n",
        "    [transforms.ToTensor(),\n",
        "     transforms.Normalize(mean, stddev)])\n",
        "\n",
        "trainset = MNIST(root='./pt_data', train=True, download=True, transform=transform)\n",
        "testset = MNIST(root='./pt_data', train=False, download=True, transform=transform)"
      ],
      "metadata": {
        "colab": {
          "base_uri": "https://localhost:8080/"
        },
        "id": "9WP0D1TprKBC",
        "outputId": "838c175d-cfe9-46c8-f8c2-549a28dc2daf"
      },
      "execution_count": 1,
      "outputs": [
        {
          "output_type": "stream",
          "name": "stderr",
          "text": [
            "100%|██████████| 9.91M/9.91M [00:00<00:00, 141MB/s]\n",
            "100%|██████████| 28.9k/28.9k [00:00<00:00, 9.30MB/s]\n",
            "100%|██████████| 1.65M/1.65M [00:00<00:00, 126MB/s]\n",
            "100%|██████████| 4.54k/4.54k [00:00<00:00, 9.87MB/s]\n"
          ]
        }
      ]
    },
    {
      "cell_type": "markdown",
      "source": [
        "**we can see that we are now declaring a batch size of 64 instead of one**. So we're gonna run train 64 training examples in parallel."
      ],
      "metadata": {
        "id": "jgpHpZJJq28M"
      }
    },
    {
      "cell_type": "markdown",
      "source": [
        "The actual network uses the activation function for the first layer to ReLu  instead of tanh. We are also going to use something known as softmax activation function in the last layer, but the PyTorch implementation of is a little bit odd in that the **actual** **function is included in the loss function itself**. So we only need to declare a linear layer here. And then by changing to use this cross entropy loss function layer, that will also include the activation for the last layer."
      ],
      "metadata": {
        "id": "47zaCAuNss4y"
      }
    },
    {
      "cell_type": "code",
      "source": [
        "# Define model. Final activation is omitted since softmax is part of\n",
        "# cross-entropy loss function in PyTorch.\n",
        "model = nn.Sequential(\n",
        "    nn.Flatten(),\n",
        "    nn.Linear(784, 25),\n",
        "    nn.ReLU(),\n",
        "    nn.Linear(25, 10)\n",
        ")"
      ],
      "metadata": {
        "id": "exJKmWAjtCfi"
      },
      "execution_count": 2,
      "outputs": []
    },
    {
      "cell_type": "markdown",
      "source": [
        "Then here we're now also just **retrieving those two layers**. We do this a little bit different than in the previous example we say we want to look at layer one and three. So **layer one refers to the first linear layer ( nn.Linear(784, 25))"
      ],
      "metadata": {
        "id": "1lpUxiyGttLR"
      }
    },
    {
      "cell_type": "code",
      "source": [
        "# Retrieve layers for custom weight initialization.\n",
        "layers = next(model.modules())\n",
        "hidden_layer = layers[1]\n",
        "output_layer = layers[3]"
      ],
      "metadata": {
        "id": "7h9-PQc1uBz2"
      },
      "execution_count": 3,
      "outputs": []
    },
    {
      "cell_type": "markdown",
      "source": [
        "and there we will use something known as **Kaiming initialization**. That's the same thing **as HE initialization as** we discussed in previous video. We set the bias weight to zero, and then for the second layer, the output layer, we're gonna use **Xavier uniform, which is the same thing as Glorot initialization.** So we do that for **the regular weights**and we can set the bias weights to zero."
      ],
      "metadata": {
        "id": "qygYX0n1uQjX"
      }
    },
    {
      "cell_type": "code",
      "source": [
        "# Kaiming (He) initialization.\n",
        "nn.init.kaiming_normal_(hidden_layer.weight)\n",
        "nn.init.constant_(hidden_layer.bias, 0.0)\n",
        "\n",
        "# Xavier (Glorot) initialization.\n",
        "nn.init.xavier_uniform_(output_layer.weight)\n",
        "nn.init.constant_(output_layer.bias, 0.0)"
      ],
      "metadata": {
        "colab": {
          "base_uri": "https://localhost:8080/"
        },
        "id": "OzI5XC2gunni",
        "outputId": "d6204ace-c43f-4dcf-8946-ec7c03fd7993"
      },
      "execution_count": 4,
      "outputs": [
        {
          "output_type": "execute_result",
          "data": {
            "text/plain": [
              "Parameter containing:\n",
              "tensor([0., 0., 0., 0., 0., 0., 0., 0., 0., 0.], requires_grad=True)"
            ]
          },
          "metadata": {},
          "execution_count": 4
        }
      ]
    },
    {
      "cell_type": "markdown",
      "source": [
        "We have created our network. Now looking at **the training process**, We're gonna use the **adam optimizer** instead of this stochastic gradient descent. We don't need to provide a learning rate, we'll just use the default learning rate for Adam to start with. <br><br>\n",
        "\n",
        "And then as mentioned, we use the **cross entropy loss** for as a loss function instead of the mean squared error."
      ],
      "metadata": {
        "id": "Q408gEE1u325"
      }
    },
    {
      "cell_type": "code",
      "source": [
        "# Use the Adam optimizer\n",
        "# Cross-entropy loss as loss function.\n",
        "optimizer = torch.optim.Adam(model.parameters())\n",
        "loss_function = nn.CrossEntropyLoss()"
      ],
      "metadata": {
        "id": "pTBUXkoSvR46"
      },
      "execution_count": 6,
      "outputs": []
    },
    {
      "cell_type": "markdown",
      "source": [
        "We no longer actually have to compute the one hot encoded version of the targets because the loss function, the cross entropy loss function **is assuming that it gets the index rather than the one hot version**. So we can just give the targets and compare to the outputs directly.\n",
        "And then now that we have **a batch size of 64**,\n"
      ],
      "metadata": {
        "id": "avchAucAwNl3"
      }
    },
    {
      "cell_type": "markdown",
      "source": [
        "So we have the **indices and targets** here will be **an array of 64 elements in parallel.** We do this equal operation. We'll check element wise if these are equal or not, and then sum up. **So this will give us out of these 64 examples for how many is the output equal to the label.**"
      ],
      "metadata": {
        "id": "P1SCyBDzxMlQ"
      }
    },
    {
      "cell_type": "code",
      "source": [
        "# Transfer model to GPU\n",
        "model.to(device)\n",
        "\n",
        "# Create DataLoader objects that will help create mini-batches.\n",
        "trainloader = DataLoader(trainset, batch_size=BATCH_SIZE, shuffle=True)\n",
        "testloader = DataLoader(testset, batch_size=BATCH_SIZE, shuffle=False)\n",
        "\n",
        "# Train the model. In PyTorch we have to implement the training loop ourselves.\n",
        "for i in range(EPOCHS):\n",
        "    model.train() # Set model in training mode.\n",
        "    train_loss = 0.0\n",
        "    train_correct = 0\n",
        "    train_batches = 0\n",
        "    for inputs, targets in trainloader:\n",
        "        # Move data to GPU.\n",
        "        inputs, targets = inputs.to(device), targets.to(device)\n",
        "\n",
        "        # Zero the parameter gradients.\n",
        "        optimizer.zero_grad()\n",
        "\n",
        "        # Forward pass.\n",
        "        outputs = model(inputs)\n",
        "        # Cross-entropy loss does not need one-hot targets in PyTorch.\n",
        "        loss = loss_function(outputs, targets)\n",
        "\n",
        "        # Accumulate metrics.\n",
        "        _, indices = torch.max(outputs.data, 1)\n",
        "        train_correct += (indices == targets).sum().item()\n",
        "        train_batches +=  1\n",
        "        train_loss += loss.item()\n",
        "\n",
        "        # Backward pass and update.\n",
        "        loss.backward()\n",
        "        optimizer.step()\n",
        "\n",
        "    train_loss = train_loss / train_batches\n",
        "    train_acc = train_correct / (train_batches * BATCH_SIZE)\n",
        "\n",
        "    # Evaluate the model on the test dataset. Identical to loop above but without\n",
        "    # weight adjustment.\n",
        "    model.eval() # Set model in inference mode.\n",
        "    test_loss = 0.0\n",
        "    test_correct = 0\n",
        "    test_batches = 0\n",
        "    for inputs, targets in testloader:\n",
        "        inputs, targets = inputs.to(device), targets.to(device)\n",
        "        outputs = model(inputs)\n",
        "        loss = loss_function(outputs, targets)\n",
        "        _, indices = torch.max(outputs, 1)\n",
        "        test_correct += (indices == targets).sum().item()\n",
        "        test_batches +=  1\n",
        "        test_loss += loss.item()\n",
        "\n",
        "    test_loss = test_loss / test_batches\n",
        "    test_acc = test_correct / (test_batches * BATCH_SIZE)\n",
        "\n",
        "    print(f'Epoch {i+1}/{EPOCHS} loss: {train_loss:.4f} - acc: {train_acc:0.4f} - val_loss: {test_loss:.4f} - val_acc: {test_acc:0.4f}')"
      ],
      "metadata": {
        "colab": {
          "base_uri": "https://localhost:8080/"
        },
        "id": "axNw7prgweWI",
        "outputId": "6e2f30aa-235b-47b5-ce66-2e6cfc19a722"
      },
      "execution_count": 7,
      "outputs": [
        {
          "output_type": "stream",
          "name": "stdout",
          "text": [
            "Epoch 1/20 loss: 0.3698 - acc: 0.8896 - val_loss: 0.2090 - val_acc: 0.9332\n",
            "Epoch 2/20 loss: 0.1901 - acc: 0.9435 - val_loss: 0.1698 - val_acc: 0.9442\n",
            "Epoch 3/20 loss: 0.1510 - acc: 0.9547 - val_loss: 0.1506 - val_acc: 0.9490\n",
            "Epoch 4/20 loss: 0.1303 - acc: 0.9604 - val_loss: 0.1395 - val_acc: 0.9525\n",
            "Epoch 5/20 loss: 0.1159 - acc: 0.9649 - val_loss: 0.1304 - val_acc: 0.9570\n",
            "Epoch 6/20 loss: 0.1051 - acc: 0.9675 - val_loss: 0.1313 - val_acc: 0.9567\n",
            "Epoch 7/20 loss: 0.0975 - acc: 0.9697 - val_loss: 0.1194 - val_acc: 0.9615\n",
            "Epoch 8/20 loss: 0.0899 - acc: 0.9716 - val_loss: 0.1262 - val_acc: 0.9580\n",
            "Epoch 9/20 loss: 0.0837 - acc: 0.9739 - val_loss: 0.1303 - val_acc: 0.9576\n",
            "Epoch 10/20 loss: 0.0788 - acc: 0.9757 - val_loss: 0.1244 - val_acc: 0.9615\n",
            "Epoch 11/20 loss: 0.0746 - acc: 0.9763 - val_loss: 0.1202 - val_acc: 0.9602\n",
            "Epoch 12/20 loss: 0.0706 - acc: 0.9774 - val_loss: 0.1137 - val_acc: 0.9625\n",
            "Epoch 13/20 loss: 0.0674 - acc: 0.9781 - val_loss: 0.1228 - val_acc: 0.9606\n",
            "Epoch 14/20 loss: 0.0647 - acc: 0.9790 - val_loss: 0.1271 - val_acc: 0.9595\n",
            "Epoch 15/20 loss: 0.0614 - acc: 0.9801 - val_loss: 0.1208 - val_acc: 0.9620\n",
            "Epoch 16/20 loss: 0.0598 - acc: 0.9806 - val_loss: 0.1243 - val_acc: 0.9607\n",
            "Epoch 17/20 loss: 0.0570 - acc: 0.9811 - val_loss: 0.1280 - val_acc: 0.9606\n",
            "Epoch 18/20 loss: 0.0534 - acc: 0.9825 - val_loss: 0.1272 - val_acc: 0.9623\n",
            "Epoch 19/20 loss: 0.0521 - acc: 0.9827 - val_loss: 0.1241 - val_acc: 0.9643\n",
            "Epoch 20/20 loss: 0.0505 - acc: 0.9832 - val_loss: 0.1282 - val_acc: 0.9616\n"
          ]
        }
      ]
    },
    {
      "cell_type": "markdown",
      "source": [
        "Given that we are running 64 examples in parallel, instead of one at a time, the training process will be faster. So you will see that each epic goes significantly faster than what it did when you did the previous programming example."
      ],
      "metadata": {
        "id": "p_kko33IvaaP"
      }
    },
    {
      "cell_type": "markdown",
      "source": [
        " Not only did the training go faster than before, but we also got a better result. So the training accuracy, is at 98% and the test accuracy is at 96% compared to we had the 95% and 94% with the previous network.\n",
        " So the running **multiple training examples in parallel made things faster**.\n",
        " And then **changing the network and using the Adam optimizer made the network doing better in terms of accuracy.**"
      ],
      "metadata": {
        "id": "Gr04QMiqx7zN"
      }
    },
    {
      "cell_type": "markdown",
      "source": [
        "# Reference\n",
        "Learning Deep Learning Book by Magnus Ekman\n"
      ],
      "metadata": {
        "id": "GPazvYBHqg9i"
      }
    }
  ]
}